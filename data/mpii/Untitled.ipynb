{
 "cells": [
  {
   "cell_type": "code",
   "execution_count": 1,
   "metadata": {},
   "outputs": [],
   "source": [
    "import json"
   ]
  },
  {
   "cell_type": "code",
   "execution_count": 3,
   "metadata": {},
   "outputs": [],
   "source": [
    "fname = './mpii_annotations.json'\n",
    "with open(fname) as f:\n",
    "    anno = json.load(f)"
   ]
  },
  {
   "cell_type": "code",
   "execution_count": 6,
   "metadata": {},
   "outputs": [
    {
     "name": "stdout",
     "output_type": "stream",
     "text": [
      "22246 2958\n"
     ]
    }
   ],
   "source": [
    "train_list, val_list = [], []\n",
    "for i, e in enumerate(anno):\n",
    "    if e['isValidation']:\n",
    "        val_list += [i]\n",
    "    else:\n",
    "        train_list += [i]\n",
    "print(len(train_list), len(val_list))"
   ]
  },
  {
   "cell_type": "code",
   "execution_count": 7,
   "metadata": {},
   "outputs": [
    {
     "data": {
      "text/plain": [
       "{'dataset': 'MPI',\n",
       " 'isValidation': 0.0,\n",
       " 'img_paths': '077096718.jpg',\n",
       " 'img_width': 1920.0,\n",
       " 'img_height': 1080.0,\n",
       " 'objpos': [1257.0, 297.0],\n",
       " 'joint_self': [[0.0, 0.0, 0.0],\n",
       "  [0.0, 0.0, 0.0],\n",
       "  [0.0, 0.0, 0.0],\n",
       "  [0.0, 0.0, 0.0],\n",
       "  [0.0, 0.0, 0.0],\n",
       "  [0.0, 0.0, 0.0],\n",
       "  [0.0, 0.0, 0.0],\n",
       "  [1232.0, 288.0, 1.0],\n",
       "  [1236.127, 311.776, 1.0],\n",
       "  [1181.873, -0.776, 1.0],\n",
       "  [692.0, 464.0, 1.0],\n",
       "  [902.0, 417.0, 1.0],\n",
       "  [1059.0, 247.0, 1.0],\n",
       "  [1405.0, 329.0, 1.0],\n",
       "  [1498.0, 613.0, 1.0],\n",
       "  [1303.0, 562.0, 1.0]],\n",
       " 'scale_provided': 9.517,\n",
       " 'joint_others': {'_ArrayType_': 'double',\n",
       "  '_ArraySize_': [0, 0],\n",
       "  '_ArrayData_': None},\n",
       " 'scale_provided_other': {'_ArrayType_': 'double',\n",
       "  '_ArraySize_': [0, 0],\n",
       "  '_ArrayData_': None},\n",
       " 'objpos_other': {'_ArrayType_': 'double',\n",
       "  '_ArraySize_': [0, 0],\n",
       "  '_ArrayData_': None},\n",
       " 'annolist_index': 95.0,\n",
       " 'people_index': 1.0,\n",
       " 'numOtherPeople': 0.0}"
      ]
     },
     "execution_count": 7,
     "metadata": {},
     "output_type": "execute_result"
    }
   ],
   "source": [
    "anno[train_list[100]]"
   ]
  },
  {
   "cell_type": "code",
   "execution_count": null,
   "metadata": {},
   "outputs": [],
   "source": []
  }
 ],
 "metadata": {
  "kernelspec": {
   "display_name": "=base",
   "language": "python",
   "name": "base"
  },
  "language_info": {
   "codemirror_mode": {
    "name": "ipython",
    "version": 3
   },
   "file_extension": ".py",
   "mimetype": "text/x-python",
   "name": "python",
   "nbconvert_exporter": "python",
   "pygments_lexer": "ipython3",
   "version": "3.7.3"
  }
 },
 "nbformat": 4,
 "nbformat_minor": 2
}
